{
 "cells": [
  {
   "cell_type": "code",
   "execution_count": 18,
   "metadata": {},
   "outputs": [],
   "source": [
    "# k-nearest neighbor\n",
    "\n",
    "# Import packages\n",
    "import pandas as pd\n",
    "import numpy as np\n",
    "from collections import defaultdict\n",
    "import math\n",
    "import matplotlib.pyplot as plt\n",
    "from sklearn.model_selection import train_test_split\n",
    "from sklearn.neighbors import KNeighborsClassifier \n",
    "from sklearn.model_selection import GridSearchCV\n"
   ]
  },
  {
   "cell_type": "code",
   "execution_count": 21,
   "metadata": {},
   "outputs": [],
   "source": [
    "# importing from CSV file\n",
    "training_data = pd.read_csv(\"../siren_data_train.csv\", sep=\",\")\n",
    "# print(f\"Data size: {training_data.memory_usage().sum() / 1e6:.2f} MB\")\n",
    "training_data['heard'] = training_data['heard'].replace({'hearing':1, 'not_hearing':0})\n",
    "# print(training_data['heard'])\n",
    "\n",
    "# Create test set\n",
    "X = training_data.drop(['heard'], axis=1)\n",
    "Y = training_data['heard']\n",
    "# print(X,Y)\n",
    "\n",
    "# Splitting into 75% training and 25% test set\n",
    "X_train, X_test, Y_train, Y_train = train_test_split(X, Y, test_size = 0.25, random_state = 1477, stratify = Y)\n"
   ]
  },
  {
   "cell_type": "code",
   "execution_count": null,
   "metadata": {},
   "outputs": [],
   "source": [
    "# K-NN\n",
    "\n",
    "\n"
   ]
  }
 ],
 "metadata": {
  "kernelspec": {
   "display_name": "Python 3.9.13 ('base')",
   "language": "python",
   "name": "python3"
  },
  "language_info": {
   "codemirror_mode": {
    "name": "ipython",
    "version": 3
   },
   "file_extension": ".py",
   "mimetype": "text/x-python",
   "name": "python",
   "nbconvert_exporter": "python",
   "pygments_lexer": "ipython3",
   "version": "3.9.13"
  },
  "vscode": {
   "interpreter": {
    "hash": "61640664f8b2f6314bfcd0528f161122feb64f9249007087e12f538f413efa0f"
   }
  }
 },
 "nbformat": 4,
 "nbformat_minor": 2
}
