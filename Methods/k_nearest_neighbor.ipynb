{
 "cells": [
  {
   "cell_type": "code",
   "execution_count": 2,
   "metadata": {},
   "outputs": [],
   "source": [
    "# k-nearest neighbor\n",
    "\n",
    "# Import packages\n",
    "import pandas as pd\n",
    "import numpy as np\n",
    "from collections import defaultdict\n",
    "import math\n",
    "import matplotlib.pyplot as plt\n",
    "from sklearn.model_selection import train_test_split\n",
    "from sklearn.neighbors import KNeighborsClassifier \n",
    "from sklearn.model_selection import GridSearchCV\n",
    "from sklearn.metrics import (accuracy_score, confusion_matrix, f1_score,\n",
    "                             precision_score, recall_score)\n"
   ]
  },
  {
   "cell_type": "code",
   "execution_count": 5,
   "metadata": {},
   "outputs": [
    {
     "name": "stdout",
     "output_type": "stream",
     "text": [
      "The first 10 rows in the data (distance to nearest horn included):\n"
     ]
    }
   ],
   "source": [
    "# importing from CSV file\n",
    "data = pd.read_csv(\"../siren_data_train.csv\", sep=\",\")\n",
    "# print(f\"Data size: {training_data.memory_usage().sum() / 1e6:.2f} MB\")\n",
    "data['heard'] = data['heard'].replace({'hearing':1, 'not_hearing':0})\n",
    "\n",
    "# Calculate the distance to nearest horn\n",
    "list_loc_horn = []\n",
    "list_loc_person = []\n",
    "list_distance_to_horn = []\n",
    "\n",
    "x_cor_horn = data[\"near_x\"]\n",
    "y_cor_horn = data[\"near_y\"]\n",
    "\n",
    "x_cor_person = data[\"xcoor\"]\n",
    "y_cor_person = data[\"ycoor\"]\n",
    "\n",
    "for row in range(len(x_cor_horn)):\n",
    "    loc_horn = [x_cor_horn[row], y_cor_horn[row]]\n",
    "    list_loc_horn.append(loc_horn)\n",
    "\n",
    "    loc_person = [x_cor_person[row], y_cor_person[row]]\n",
    "    list_loc_person.append(loc_person)\n",
    "\n",
    "for i in range(len(x_cor_horn)):\n",
    "    \n",
    "    coordinate_horn = list_loc_horn[i] \n",
    "    coordinate_person = list_loc_person[i]\n",
    "    distance_to_horn = math.dist(coordinate_horn,coordinate_person)\n",
    "    list_distance_to_horn.append(distance_to_horn)\n",
    "   \n",
    "data[\"distance to nearest horn\"] = list_distance_to_horn\n",
    "print(\"The first 10 rows in the data (distance to nearest horn included):\")\n",
    "data.head(10)\n",
    "\n",
    "data['distance to nearest horn'] = list_distance_to_horn\n",
    "data = data.drop(['xcoor','ycoor','near_x','near_y'],axis=1)\n",
    "#print(data)\n",
    "\n",
    "# Create test set\n",
    "X = data.drop(['heard'], axis=1)\n",
    "y = data['heard']\n",
    "#print(y)\n",
    "\n",
    "# Splitting into 75% training and 25% test set\n",
    "X_train, X_test, y_train, y_test = train_test_split(X, y, test_size = 0.25, random_state = 1477, stratify = y)\n"
   ]
  },
  {
   "cell_type": "code",
   "execution_count": 7,
   "metadata": {},
   "outputs": [
    {
     "name": "stdout",
     "output_type": "stream",
     "text": [
      "Confusion Matrix:\n",
      " [[230 113]\n",
      " [ 99 986]] \n",
      "\n",
      "Accuracy: 0.85\n",
      "Recall: 0.91\n",
      "Precision: 0.9\n",
      "F1: 0.9\n"
     ]
    },
    {
     "name": "stderr",
     "output_type": "stream",
     "text": [
      "/Users/sofiapettersson/opt/anaconda3/lib/python3.9/site-packages/sklearn/neighbors/_classification.py:228: FutureWarning: Unlike other reduction functions (e.g. `skew`, `kurtosis`), the default behavior of `mode` typically preserves the axis it acts along. In SciPy 1.11.0, this behavior will change: the default value of `keepdims` will become False, the `axis` over which the statistic is taken will be eliminated, and the value None will no longer be accepted. Set `keepdims` to True or False to avoid this warning.\n",
      "  mode, _ = stats.mode(_y[neigh_ind, k], axis=1)\n"
     ]
    }
   ],
   "source": [
    "# K-NN\n",
    "\n",
    "\n",
    "knn = KNeighborsClassifier (n_neighbors = 4)\n",
    "knn.fit(X_train,y_train)\n",
    "\n",
    "# Performance metrics\n",
    "y_pred = knn.predict(X_test)\n",
    "\n",
    "def print_performance_metrics(y_true, y_pred):\n",
    "    print(\"Confusion Matrix:\\n\", confusion_matrix(y_true, y_pred), \"\\n\")\n",
    "    print(f\"Accuracy: {accuracy_score(y_true, y_pred):.2}\")\n",
    "    print(f\"Recall: {recall_score(y_true, y_pred):.2}\")\n",
    "    print(f\"Precision: {precision_score(y_true, y_pred):.2}\")\n",
    "    print(f\"F1: {f1_score(y_true, y_pred):.2}\")\n",
    "\n",
    "print_performance_metrics(y_test, y_pred)"
   ]
  }
 ],
 "metadata": {
  "kernelspec": {
   "display_name": "Python 3.9.13 ('base')",
   "language": "python",
   "name": "python3"
  },
  "language_info": {
   "codemirror_mode": {
    "name": "ipython",
    "version": 3
   },
   "file_extension": ".py",
   "mimetype": "text/x-python",
   "name": "python",
   "nbconvert_exporter": "python",
   "pygments_lexer": "ipython3",
   "version": "3.9.13"
  },
  "vscode": {
   "interpreter": {
    "hash": "61640664f8b2f6314bfcd0528f161122feb64f9249007087e12f538f413efa0f"
   }
  }
 },
 "nbformat": 4,
 "nbformat_minor": 2
}
