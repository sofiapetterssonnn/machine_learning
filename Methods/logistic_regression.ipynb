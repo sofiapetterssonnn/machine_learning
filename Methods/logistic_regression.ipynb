{
 "cells": [
  {
   "cell_type": "code",
   "execution_count": 81,
   "metadata": {},
   "outputs": [],
   "source": [
    "# Logistic regression\n",
    "\n",
    "import pandas as pd\n",
    "import numpy as np\n",
    "from collections import defaultdict\n",
    "import math\n",
    "import matplotlib.pyplot as plt\n",
    "from sklearn . model_selection import train_test_split\n",
    "import sklearn.linear_model as LogisticRegression\n",
    "from sklearn.metrics import (accuracy_score, confusion_matrix, f1_score,precision_score, recall_score)\n",
    "import seaborn as sns\n",
    "\n",
    "RANDOM_SEED = 42"
   ]
  },
  {
   "cell_type": "code",
   "execution_count": 82,
   "metadata": {},
   "outputs": [
    {
     "name": "stdout",
     "output_type": "stream",
     "text": [
      "Data imported!\n",
      "      near_fid        near_x        near_y  near_angle  heard  building  \\\n",
      "0         2712  1.998301e+06  9.011692e+06 -171.588672      1         0   \n",
      "1         2721  1.928907e+06  8.954624e+06  -51.208102      1         0   \n",
      "2          297  2.026384e+06  8.256164e+06   39.018754      1         0   \n",
      "3          739  1.743184e+06  8.052652e+06   15.046022      1         0   \n",
      "4         1852  1.350375e+06  7.909850e+06  144.603170      1         0   \n",
      "...        ...           ...           ...         ...    ...       ...   \n",
      "5705         5  2.008871e+06  8.255775e+06 -176.234663      1         0   \n",
      "5706      4069  1.981871e+06  8.270452e+06   45.691415      1         0   \n",
      "5707      2170  1.463760e+06  8.074997e+06 -175.473118      1         0   \n",
      "5708      1591  1.479843e+06  7.526377e+06  142.958054      1         0   \n",
      "5709      4034  1.995078e+06  8.280029e+06  -61.591457      1         1   \n",
      "\n",
      "          xcoor    ycoor  noise  in_vehicle  asleep  no_windows  age  \n",
      "0     1999193.0  9011824      0           0       0           0   59  \n",
      "1     1928298.0  8955382      0           0       0           0   29  \n",
      "2     2025706.0  8255615      0           0       0           0   32  \n",
      "3     1742935.0  8052585      0           0       0           0   36  \n",
      "4     1350807.0  7909543      0           0       0           0   55  \n",
      "...         ...      ...    ...         ...     ...         ...  ...  \n",
      "5705  2009140.0  8255793      0           0       0           0   29  \n",
      "5706  1981119.0  8269682      0           0       0           0   49  \n",
      "5707  1464308.0  8075040      0           0       0           0   62  \n",
      "5708  1480125.0  7526164      0           0       0           0   37  \n",
      "5709  1994495.0  8281108      0           0       0           0   33  \n",
      "\n",
      "[5710 rows x 13 columns]\n"
     ]
    }
   ],
   "source": [
    "# Importing the data from the csv file\n",
    "training_data = pd.read_csv(\"../siren_data_train.csv\", sep=\",\")\n",
    "training_data['heard'] = training_data['heard'].replace({'hearing': 1, 'not_hearing': 0})\n",
    "print('Data imported!')\n",
    "print(training_data)"
   ]
  },
  {
   "cell_type": "code",
   "execution_count": 83,
   "metadata": {},
   "outputs": [
    {
     "name": "stdout",
     "output_type": "stream",
     "text": [
      "      near_fid        near_x        near_y  near_angle  heard  building  \\\n",
      "0         2712  1.998301e+06  9.011692e+06 -171.588672      1         0   \n",
      "1         2721  1.928907e+06  8.954624e+06  -51.208102      1         0   \n",
      "2          297  2.026384e+06  8.256164e+06   39.018754      1         0   \n",
      "3          739  1.743184e+06  8.052652e+06   15.046022      1         0   \n",
      "4         1852  1.350375e+06  7.909850e+06  144.603170      1         0   \n",
      "...        ...           ...           ...         ...    ...       ...   \n",
      "5705         5  2.008871e+06  8.255775e+06 -176.234663      1         0   \n",
      "5706      4069  1.981871e+06  8.270452e+06   45.691415      1         0   \n",
      "5707      2170  1.463760e+06  8.074997e+06 -175.473118      1         0   \n",
      "5708      1591  1.479843e+06  7.526377e+06  142.958054      1         0   \n",
      "5709      4034  1.995078e+06  8.280029e+06  -61.591457      1         1   \n",
      "\n",
      "          xcoor    ycoor  noise  in_vehicle  asleep  no_windows  age  \\\n",
      "0     1999193.0  9011824      0           0       0           0   59   \n",
      "1     1928298.0  8955382      0           0       0           0   29   \n",
      "2     2025706.0  8255615      0           0       0           0   32   \n",
      "3     1742935.0  8052585      0           0       0           0   36   \n",
      "4     1350807.0  7909543      0           0       0           0   55   \n",
      "...         ...      ...    ...         ...     ...         ...  ...   \n",
      "5705  2009140.0  8255793      0           0       0           0   29   \n",
      "5706  1981119.0  8269682      0           0       0           0   49   \n",
      "5707  1464308.0  8075040      0           0       0           0   62   \n",
      "5708  1480125.0  7526164      0           0       0           0   37   \n",
      "5709  1994495.0  8281108      0           0       0           0   33   \n",
      "\n",
      "      distance_nearest_horn  \n",
      "0                901.283517  \n",
      "1                972.006260  \n",
      "2                872.340924  \n",
      "3                257.804449  \n",
      "4                529.686791  \n",
      "...                     ...  \n",
      "5705             269.161517  \n",
      "5706            1076.700725  \n",
      "5707             549.581267  \n",
      "5708             353.136892  \n",
      "5709            1226.448178  \n",
      "\n",
      "[5710 rows x 14 columns]\n"
     ]
    }
   ],
   "source": [
    "# Creating a parameter distance to nearest horn\n",
    "\n",
    "# Calculate the distance to nearest horn\n",
    "\n",
    "list_loc_horn = []\n",
    "list_loc_person = []\n",
    "list_distance_to_horn = []\n",
    "\n",
    "x_cor_horn = training_data['near_x']\n",
    "y_cor_horn = training_data['near_y']\n",
    "\n",
    "x_cor_person = training_data['xcoor']\n",
    "y_cor_person = training_data['ycoor']\n",
    "\n",
    "for row in range(len(x_cor_horn)):\n",
    "    loc_horn = [x_cor_horn[row], y_cor_horn[row]]\n",
    "    list_loc_horn.append(loc_horn)\n",
    "\n",
    "    loc_person = [x_cor_person[row], y_cor_person[row]]\n",
    "    list_loc_person.append(loc_person)\n",
    "\n",
    "for i in range(len(x_cor_horn)):\n",
    "    \n",
    "    coordinate_horn = list_loc_horn[i] \n",
    "    coordinate_person = list_loc_person[i]\n",
    "    distance_to_horn = math.dist(coordinate_horn,coordinate_person)\n",
    "    list_distance_to_horn.append(distance_to_horn)\n",
    "   \n",
    "training_data[\"distance_nearest_horn\"] = list_distance_to_horn\n",
    "\n",
    "# Dropping unnecessary features\n",
    "\n",
    "# training_data = training_data.drop(['near_x', 'near_y', 'xcoor', 'ycoor', 'near_fid'], axis=1)\n",
    "print(training_data)"
   ]
  },
  {
   "cell_type": "code",
   "execution_count": 84,
   "metadata": {},
   "outputs": [
    {
     "name": "stdout",
     "output_type": "stream",
     "text": [
      "Data splitted!\n"
     ]
    }
   ],
   "source": [
    "# Creating training set and test set\n",
    "\n",
    "# Creating X - everything about the column 'heard'\n",
    "\n",
    "X = training_data.drop(['heard'], axis = 1)\n",
    "\n",
    "# Creating Y - the column 'heard'\n",
    "\n",
    "y = training_data['heard']\n",
    "\n",
    "# Splitting the data into 75% for training and 25% for testing\n",
    "\n",
    "X_train, X_test, y_train, y_test = train_test_split(X, y, test_size = 0.25, random_state=RANDOM_SEED, shuffle=True)\n",
    "print(\"Data splitted!\") "
   ]
  },
  {
   "cell_type": "code",
   "execution_count": 85,
   "metadata": {},
   "outputs": [
    {
     "data": {
      "text/plain": [
       "LogisticRegression()"
      ]
     },
     "execution_count": 85,
     "metadata": {},
     "output_type": "execute_result"
    }
   ],
   "source": [
    "# Learn a logistic model\n",
    "\n",
    "# Creating logisitc regression model\n",
    "\n",
    "logistic_regression_model = LogisticRegression.LogisticRegression()\n",
    " \n",
    "# Fitting model to training data\n",
    "\n",
    "logistic_regression_model.fit(X_train, y_train)"
   ]
  },
  {
   "cell_type": "code",
   "execution_count": 86,
   "metadata": {},
   "outputs": [
    {
     "name": "stdout",
     "output_type": "stream",
     "text": [
      "Confusion Matrix:\n",
      " [[ 200  154]\n",
      " [  10 1064]] \n",
      "\n",
      "Accuracy: 0.89\n",
      "Recall: 0.99\n",
      "Precision: 0.87\n",
      "F1: 0.93\n"
     ]
    }
   ],
   "source": [
    "# Evaluate the model\n",
    "\n",
    "y_pred = logistic_regression_model.predict(X_test)\n",
    "\n",
    "def print_performance_metrics(y_true, y_pred):\n",
    "    print(\"Confusion Matrix:\\n\", confusion_matrix(y_true, y_pred), \"\\n\")\n",
    "    print(f\"Accuracy: {accuracy_score(y_true, y_pred):.2}\")\n",
    "    print(f\"Recall: {recall_score(y_true, y_pred):.2}\")\n",
    "    print(f\"Precision: {precision_score(y_true, y_pred):.2}\")\n",
    "    print(f\"F1: {f1_score(y_true, y_pred):.2}\")\n",
    "\n",
    "print_performance_metrics(y_test, y_pred)"
   ]
  },
  {
   "cell_type": "code",
   "execution_count": 87,
   "metadata": {},
   "outputs": [],
   "source": [
    "# Confusion Matrix: all parameters\n",
    "# [[  16  338]\n",
    "# [   1 1073]] \n",
    "\n",
    "# Accuracy: 0.76\n",
    "# Recall: 1.0\n",
    "# Precision: 0.76\n",
    "# F1: 0.86\n",
    "\n",
    "# Confusion Matrix: with distance_nearest_horn, without near_x, near_y, xcoor, ycoor\n",
    "# Confusion Matrix:\n",
    "# [[ 249  105]\n",
    "# [  27 1047]] \n",
    "\n",
    "# Accuracy: 0.91\n",
    "# Recall: 0.97\n",
    "# Precision: 0.91\n",
    "# F1: 0.94\n",
    "\n",
    "# Confusion Matrix: with distance_nearest_horn, without near_x, near_y, xcoor, ycoor, and near_fid\n",
    "# Confusion Matrix:\n",
    "# [[ 257   97]\n",
    "# [  26 1048]] \n",
    "\n",
    "# Accuracy: 0.91\n",
    "# Recall: 0.98\n",
    "# Precision: 0.92\n",
    "# F1: 0.94\n",
    "\n",
    "# Tuning\n",
    "# CV5 \n",
    "\n",
    "# Grid Search\n",
    "    # Regularization strength\n",
    "    # Penalty\n",
    "    # Solver\n",
    "\n",
    "# Score = f1 "
   ]
  },
  {
   "cell_type": "code",
   "execution_count": 88,
   "metadata": {},
   "outputs": [],
   "source": [
    "\n",
    "\n",
    "# Parameter tuning\n",
    "# Choices of parameters: penalty, solver, \n",
    "\n"
   ]
  }
 ],
 "metadata": {
  "kernelspec": {
   "display_name": "Python 3",
   "language": "python",
   "name": "python3"
  },
  "language_info": {
   "codemirror_mode": {
    "name": "ipython",
    "version": 3
   },
   "file_extension": ".py",
   "mimetype": "text/x-python",
   "name": "python",
   "nbconvert_exporter": "python",
   "pygments_lexer": "ipython3",
   "version": "3.9.0"
  }
 },
 "nbformat": 4,
 "nbformat_minor": 2
}
