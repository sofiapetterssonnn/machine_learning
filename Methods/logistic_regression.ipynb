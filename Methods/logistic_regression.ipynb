{
 "cells": [
  {
   "cell_type": "code",
   "execution_count": 25,
   "metadata": {},
   "outputs": [],
   "source": [
    "# Logistic regression\n",
    "\n",
    "import pandas as pd\n",
    "import numpy as np\n",
    "from collections import defaultdict\n",
    "import math\n",
    "import matplotlib.pyplot as plt\n",
    "from sklearn . model_selection import train_test_split"
   ]
  },
  {
   "cell_type": "code",
   "execution_count": 27,
   "metadata": {},
   "outputs": [
    {
     "name": "stdout",
     "output_type": "stream",
     "text": [
      "Data imported!\n",
      "      near_fid        near_x        near_y  near_angle  building      xcoor  \\\n",
      "183       4022  1.994137e+06  8.298690e+06  -40.363174         0  1993750.0   \n",
      "5244      3460  1.418313e+06  7.579746e+06  112.548413         1  1419318.0   \n",
      "979        538  1.964992e+06  8.371630e+06   59.088381         0  1964697.0   \n",
      "4531      3450  1.416968e+06  7.566548e+06 -131.032953         1  1417219.0   \n",
      "3855      1826  1.326432e+06  7.904828e+06   31.497378         1  1325560.0   \n",
      "...        ...           ...           ...         ...       ...        ...   \n",
      "3848      1510  1.445371e+06  7.477707e+06   28.045037         0  1445121.0   \n",
      "1285       141  2.014293e+06  8.244952e+06   40.903749         0  2013525.0   \n",
      "3881      2430  1.833571e+06  8.315400e+06  148.726758         0  1833881.0   \n",
      "4371      2661  1.796142e+06  8.817041e+06   98.540604         0  1799944.0   \n",
      "1830      2344  1.674021e+06  8.369899e+06    8.298469         0  1673465.0   \n",
      "\n",
      "        ycoor  noise  in_vehicle  asleep  no_windows  age  \n",
      "183   8299019      1           0       0           0   71  \n",
      "5244  7577326      0           0       0           0   49  \n",
      "979   8371137      0           0       0           0   36  \n",
      "4531  7566837      0           0       0           0   42  \n",
      "3855  7904294      0           0       0           0   66  \n",
      "...       ...    ...         ...     ...         ...  ...  \n",
      "3848  7477574      0           0       0           0   42  \n",
      "1285  8244286      0           0       0           0   72  \n",
      "3881  8315212      1           0       0           0   65  \n",
      "4371  8791726      1           1       0           0   69  \n",
      "1830  8369818      0           0       0           0   40  \n",
      "\n",
      "[4282 rows x 12 columns]\n"
     ]
    }
   ],
   "source": [
    "# Importing the data from the csv file\n",
    "training_data = pd.read_csv(\"../siren_data_train.csv\", sep=\",\")\n",
    "training_data['heard'] = training_data['heard'].replace({'hearing': 1, 'not_hearing': 0})\n",
    "print('Data imported!')\n",
    "\n",
    "# Creating training set and test set\n",
    "# Creating X - everything about the column 'heard'\n",
    "X = training_data.drop(['heard'], axis = 1)\n",
    "\n",
    "# Creating Y - the column 'heard'\n",
    "Y = training_data['heard']\n",
    "\n",
    "# Splitting the data into 75% for training and 25% for testing\n",
    "# Stratify - a sampling method that reduces the sampling error in cases where the pop. can be partitioned into subgroups\n",
    "X_train, X_test, Y_train, Y_test = train_test_split(X, Y, test_size = 0.25, random_state = 1477, stratify = Y)\n",
    "print(\"Data splitted!\")"
   ]
  },
  {
   "cell_type": "code",
   "execution_count": null,
   "metadata": {},
   "outputs": [],
   "source": [
    "# Training the model Logistic Regression\n",
    "\n",
    "# Application to data:\n",
    "# Logistic regression makes the assumption that there is a linear relationship between input variables\n",
    "# and the probability of it belonging to the positive class. An input variable x1 increase p(x1) will increase or decrease"
   ]
  }
 ],
 "metadata": {
  "kernelspec": {
   "display_name": "Python 3",
   "language": "python",
   "name": "python3"
  },
  "language_info": {
   "codemirror_mode": {
    "name": "ipython",
    "version": 3
   },
   "file_extension": ".py",
   "mimetype": "text/x-python",
   "name": "python",
   "nbconvert_exporter": "python",
   "pygments_lexer": "ipython3",
   "version": "3.9.0"
  }
 },
 "nbformat": 4,
 "nbformat_minor": 2
}
