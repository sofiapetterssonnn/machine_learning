{
 "cells": [
  {
   "cell_type": "code",
   "execution_count": 80,
   "metadata": {},
   "outputs": [],
   "source": [
    "# Discriminant Analysis\n",
    "# Import packages\n",
    "import pandas as pd\n",
    "import numpy as np\n",
    "import matplotlib.pyplot as plt\n",
    "import math\n",
    "\n",
    "import sklearn.discriminant_analysis as skl_da\n",
    "from sklearn.model_selection import GridSearchCV\n",
    "from sklearn.metrics import (accuracy_score,confusion_matrix,f1_score)\n"
   ]
  },
  {
   "cell_type": "code",
   "execution_count": 81,
   "metadata": {},
   "outputs": [
    {
     "name": "stdout",
     "output_type": "stream",
     "text": [
      "Data size: 0.59 MB\n",
      "The first 10 rows in the data:\n"
     ]
    }
   ],
   "source": [
    "#Import data\n",
    "data = pd.read_csv(\"../../machine_learning/siren_data_train.csv\", sep=\",\")\n",
    "print(f\"Data size: {data.memory_usage().sum() / 1e6:.2f} MB\")\n",
    "print(\"The first 10 rows in the data:\")\n",
    "\n"
   ]
  },
  {
   "cell_type": "code",
   "execution_count": 82,
   "metadata": {},
   "outputs": [],
   "source": [
    "#Calculate distance to horn\n",
    "list_loc_horn = []\n",
    "list_loc_person = []\n",
    "list_distance_to_horn = []\n",
    "\n",
    "x_cor_horn = data[\"near_x\"]\n",
    "y_cor_horn = data[\"near_y\"]\n",
    "\n",
    "x_cor_person = data[\"xcoor\"]\n",
    "y_cor_person = data[\"ycoor\"]\n",
    "\n",
    "for row in range(len(x_cor_horn)):\n",
    "    loc_horn = [x_cor_horn[row], y_cor_horn[row]]\n",
    "    list_loc_horn.append(loc_horn)\n",
    "\n",
    "    loc_person = [x_cor_person[row], y_cor_person[row]]\n",
    "    list_loc_person.append(loc_person)\n",
    "\n",
    "for i in range(len(x_cor_horn)):\n",
    "    \n",
    "    coordinate_horn = list_loc_horn[i] \n",
    "    coordinate_person = list_loc_person[i]\n",
    "    distance_to_horn = math.dist(coordinate_horn,coordinate_person)\n",
    "    list_distance_to_horn.append(distance_to_horn)\n",
    "data[\"distance to nearest horn\"] = list_distance_to_horn\n"
   ]
  },
  {
   "cell_type": "code",
   "execution_count": 83,
   "metadata": {},
   "outputs": [],
   "source": [
    "#Splitting test and training data\n",
    "np.random.seed(1)\n",
    "trainI = np.random.choice(data.shape[0], size=4000, replace=False)\n",
    "trainIndex = data.index.isin(trainI)\n",
    "train = data.iloc[trainIndex] #training set\n",
    "test = data.iloc[~trainIndex]\n",
    "\n",
    "X_test = train[['building','noise', 'in_vehicle', 'asleep','age','distance to nearest horn','near_angle']]\n",
    "Y_test = train['heard']\n",
    "X_train = train[['building','noise', 'in_vehicle', 'asleep','age','distance to nearest horn','near_angle']]\n",
    "Y_train = train['heard']\n",
    "\n"
   ]
  },
  {
   "cell_type": "code",
   "execution_count": 86,
   "metadata": {},
   "outputs": [
    {
     "name": "stdout",
     "output_type": "stream",
     "text": [
      "{'shrinkage': None, 'solver': 'lsqr'}\n",
      "f1: [0.9319853  0.9319853  0.9290485  0.9290485  0.92452398 0.92452398]\n",
      "[{'shrinkage': None, 'solver': 'lsqr'}, {'shrinkage': None, 'solver': 'eigen'}, {'shrinkage': 'auto', 'solver': 'lsqr'}, {'shrinkage': 'auto', 'solver': 'eigen'}, {'shrinkage': 0.5, 'solver': 'lsqr'}, {'shrinkage': 0.5, 'solver': 'eigen'}]\n",
      "0.89225\n"
     ]
    }
   ],
   "source": [
    "#Tuning model\n",
    "model = skl_da.LinearDiscriminantAnalysis()\n",
    "params = {'solver':['lsqr','eigen'],'shrinkage':[None,'auto',0.5]}\n",
    "grid_search = GridSearchCV(model, params, cv=5, scoring='f1')\n",
    "grid_search.fit(X_train, Y_train)\n",
    "best_params = grid_search.best_params_\n",
    "print(best_params)\n",
    "f1_scores = grid_search.cv_results_['mean_test_score']\n",
    "print('f1:',f1_scores )\n",
    "params = grid_search.cv_results_['params']\n",
    "print(params)\n",
    "best_lda_model = grid_search.best_estimator_\n",
    "accuracy = best_lda_model.score(X_test, Y_test)\n",
    "print(accuracy)\n",
    "\n",
    "\n"
   ]
  },
  {
   "cell_type": "code",
   "execution_count": 50,
   "metadata": {},
   "outputs": [
    {
     "name": "stdout",
     "output_type": "stream",
     "text": [
      "The class order in the model:\n",
      "[0 1]\n",
      "Examples of predicted probablities for the above classes:\n",
      "[[0.006 0.994]\n",
      " [0.008 0.992]\n",
      " [0.016 0.984]\n",
      " [0.05  0.95 ]\n",
      " [0.055 0.945]]\n"
     ]
    }
   ],
   "source": [
    "#predict \n",
    "predict_prob = best_lda_model.predict_proba(X_test)\n",
    "print('The class order in the model:')\n",
    "print(best_lda_model.classes_)\n",
    "print('Examples of predicted probablities for the above classes:')\n",
    "with np.printoptions(suppress=True, precision=3): # Supress scienti\n",
    "    print(predict_prob[0:5]) # inspect the first 5 predictions"
   ]
  },
  {
   "cell_type": "code",
   "execution_count": 34,
   "metadata": {},
   "outputs": [
    {
     "name": "stdout",
     "output_type": "stream",
     "text": [
      "First five predictions:\n",
      "[1 1 1 1 1] \n",
      "\n",
      "Consufion matrix:\n",
      "heard    0     1\n",
      "row_0           \n",
      "0      591    55\n",
      "1      377  2977 \n",
      "\n",
      "Accuracy: 0.892\n",
      "F1:0.93\n"
     ]
    }
   ],
   "source": [
    "\n",
    "prediction = np.empty(len(X_test), dtype=object)\n",
    "prediction = np.where(predict_prob[:, 0]>=0.5, 0, 1)\n",
    "print(\"First five predictions:\")\n",
    "print(prediction[0:5], '\\n') # Inspect the first 5 predictions after labeling.\n",
    "# Confusion matrix\n",
    "print(\"Consufion matrix:\")\n",
    "print(pd.crosstab(prediction, Y_test),'\\n')\n",
    "# Accuracy\n",
    "print(f\"Accuracy: {np.mean(prediction == Y_test):.3f}\")\n",
    "print(f\"F1:{f1_score(Y_test,prediction):.2}\")\n"
   ]
  },
  {
   "cell_type": "code",
   "execution_count": null,
   "metadata": {},
   "outputs": [],
   "source": []
  }
 ],
 "metadata": {
  "kernelspec": {
   "display_name": "base",
   "language": "python",
   "name": "python3"
  },
  "language_info": {
   "codemirror_mode": {
    "name": "ipython",
    "version": 3
   },
   "file_extension": ".py",
   "mimetype": "text/x-python",
   "name": "python",
   "nbconvert_exporter": "python",
   "pygments_lexer": "ipython3",
   "version": "3.9.13"
  }
 },
 "nbformat": 4,
 "nbformat_minor": 2
}
