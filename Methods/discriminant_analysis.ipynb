{
 "cells": [
  {
   "cell_type": "code",
   "execution_count": 2,
   "metadata": {},
   "outputs": [],
   "source": [
    "# Discriminant Analysis\n",
    "# Import packages\n",
    "import pandas as pd\n",
    "import numpy as np\n",
    "import matplotlib.pyplot as plt\n",
    "import math\n",
    "\n",
    "import sklearn.discriminant_analysis as skl_da\n",
    "from sklearn.model_selection import GridSearchCV,train_test_split\n",
    "from sklearn.metrics import (f1_score, classification_report)\n"
   ]
  },
  {
   "cell_type": "code",
   "execution_count": 3,
   "metadata": {},
   "outputs": [
    {
     "name": "stdout",
     "output_type": "stream",
     "text": [
      "Data size: 0.59 MB\n",
      "The first 10 rows in the data:\n"
     ]
    }
   ],
   "source": [
    "#Import data\n",
    "data = pd.read_csv(\"../../machine_learning/siren_data_train.csv\", sep=\",\")\n",
    "print(f\"Data size: {data.memory_usage().sum() / 1e6:.2f} MB\")\n",
    "print(\"The first 10 rows in the data:\")\n"
   ]
  },
  {
   "cell_type": "code",
   "execution_count": 4,
   "metadata": {},
   "outputs": [],
   "source": [
    "#Calculate distance to horn\n",
    "list_loc_horn = []\n",
    "list_loc_person = []\n",
    "list_distance_to_horn = []\n",
    "\n",
    "x_cor_horn = data[\"near_x\"]\n",
    "y_cor_horn = data[\"near_y\"]\n",
    "\n",
    "x_cor_person = data[\"xcoor\"]\n",
    "y_cor_person = data[\"ycoor\"]\n",
    "\n",
    "for row in range(len(x_cor_horn)):\n",
    "    loc_horn = [x_cor_horn[row], y_cor_horn[row]]\n",
    "    list_loc_horn.append(loc_horn)\n",
    "\n",
    "    loc_person = [x_cor_person[row], y_cor_person[row]]\n",
    "    list_loc_person.append(loc_person)\n",
    "\n",
    "for i in range(len(x_cor_horn)):\n",
    "    \n",
    "    coordinate_horn = list_loc_horn[i] \n",
    "    coordinate_person = list_loc_person[i]\n",
    "    distance_to_horn = math.dist(coordinate_horn,coordinate_person)\n",
    "    list_distance_to_horn.append(distance_to_horn)\n",
    "data[\"distance to nearest horn\"] = list_distance_to_horn\n",
    "\n"
   ]
  },
  {
   "cell_type": "code",
   "execution_count": 7,
   "metadata": {},
   "outputs": [],
   "source": [
    "#Split data in 75% training data and 25% test data\n",
    "x = data[['building','noise','asleep','in_vehicle','no_windows','age','distance to nearest horn']]\n",
    "y = data['heard']\n",
    "X_train, X_test, Y_train, Y_test = train_test_split(x, y, test_size = 0.25, random_state = 1, shuffle = True)\n"
   ]
  },
  {
   "cell_type": "code",
   "execution_count": 8,
   "metadata": {},
   "outputs": [
    {
     "name": "stdout",
     "output_type": "stream",
     "text": [
      "0.9124649859943977\n",
      "{'shrinkage': None, 'solver': 'lsqr'}\n",
      "[{'shrinkage': None, 'solver': 'lsqr'}, {'shrinkage': None, 'solver': 'eigen'}, {'shrinkage': 'auto', 'solver': 'lsqr'}, {'shrinkage': 'auto', 'solver': 'eigen'}, {'shrinkage': 0.5, 'solver': 'lsqr'}, {'shrinkage': 0.5, 'solver': 'eigen'}]\n",
      "[0.94031286 0.94031286 0.9373965  0.9373965  0.92311039 0.92311039]\n"
     ]
    }
   ],
   "source": [
    "#Tuning model with GridSearchCV with parameters solver and shrinkage. Solver 'svd' does not support shrinkage and 'svd' is therefore removed\n",
    "model = skl_da.LinearDiscriminantAnalysis()\n",
    "params = {'solver':['lsqr','eigen'],'shrinkage':[None,'auto',0.5]}\n",
    "grid_search = GridSearchCV(model, params, cv=5, scoring='f1')\n",
    "grid_search.fit(X_train, Y_train)\n",
    "best_params = grid_search.best_params_\n",
    "f1_scores = grid_search.cv_results_['mean_test_score']\n",
    "params = grid_search.cv_results_['params']\n",
    "best_gridsearch_model = grid_search.best_estimator_\n",
    "accuracy = best_gridsearch_model.score(X_test, Y_test)\n",
    "print(accuracy)\n",
    "print(best_params)\n",
    "print(params)\n",
    "print(f1_scores)\n"
   ]
  },
  {
   "cell_type": "code",
   "execution_count": 9,
   "metadata": {},
   "outputs": [
    {
     "name": "stdout",
     "output_type": "stream",
     "text": [
      "0.9124649859943977\n",
      "{'solver': 'svd'}\n",
      "[{'solver': 'svd'}, {'solver': 'lsqr'}, {'solver': 'eigen'}]\n",
      "[0.94031286 0.94031286 0.94031286]\n"
     ]
    }
   ],
   "source": [
    "#Tuning model with GridSearchCV with parameters solver. Solver 'svd' does not support shrinkage and shrinkage is therefore removed\n",
    "model = skl_da.LinearDiscriminantAnalysis()\n",
    "params = {'solver':['svd','lsqr','eigen']}\n",
    "grid_search = GridSearchCV(model, params, cv=5, scoring='f1')\n",
    "grid_search.fit(X_train, Y_train)\n",
    "best_params = grid_search.best_params_\n",
    "f1_scores = grid_search.cv_results_['mean_test_score']\n",
    "params = grid_search.cv_results_['params']\n",
    "best_gridsearch_solver_model = grid_search.best_estimator_\n",
    "accuracy = best_gridsearch_model.score(X_test, Y_test)\n",
    "print(accuracy)\n",
    "print(best_params)\n",
    "print(params)\n",
    "print(f1_scores)\n"
   ]
  },
  {
   "cell_type": "code",
   "execution_count": 11,
   "metadata": {},
   "outputs": [
    {
     "name": "stdout",
     "output_type": "stream",
     "text": [
      "0.9124649859943977\n"
     ]
    }
   ],
   "source": [
    "#Default model\n",
    "model = skl_da.LinearDiscriminantAnalysis()\n",
    "model.fit(X_train, Y_train)\n",
    "accuracy = model.score(X_test, Y_test)\n",
    "print(accuracy)"
   ]
  },
  {
   "cell_type": "code",
   "execution_count": 12,
   "metadata": {},
   "outputs": [
    {
     "name": "stdout",
     "output_type": "stream",
     "text": [
      "The class order in the model:\n",
      "[0 1]\n",
      "Examples of predicted probablities for the above classes:\n",
      "[[0.013 0.987]\n",
      " [0.283 0.717]\n",
      " [0.004 0.996]\n",
      " [0.976 0.024]\n",
      " [0.07  0.93 ]]\n"
     ]
    }
   ],
   "source": [
    "#predict \n",
    "predict_prob = model.predict_proba(X_test)\n",
    "print('The class order in the model:')\n",
    "print(model.classes_)\n",
    "print('Examples of predicted probablities for the above classes:')\n",
    "with np.printoptions(suppress=True, precision=3): \n",
    "    print(predict_prob[0:5]) # First 5 predictions"
   ]
  },
  {
   "cell_type": "code",
   "execution_count": 11,
   "metadata": {},
   "outputs": [
    {
     "name": "stdout",
     "output_type": "stream",
     "text": [
      "First five predictions:\n",
      "[1 1 1 0 1] \n",
      "\n",
      "Consufion matrix:\n",
      "heard    0     1\n",
      "row_0           \n",
      "0      223    19\n",
      "1      106  1080 \n",
      "\n",
      "Accuracy: 0.912\n",
      "F1:0.945\n",
      "              precision    recall  f1-score   support\n",
      "\n",
      "           0      0.921     0.678     0.781       329\n",
      "           1      0.911     0.983     0.945      1099\n",
      "\n",
      "    accuracy                          0.912      1428\n",
      "   macro avg      0.916     0.830     0.863      1428\n",
      "weighted avg      0.913     0.912     0.907      1428\n",
      "\n"
     ]
    }
   ],
   "source": [
    "#Evaluate model with confusion matrix\n",
    "prediction = np.empty(len(X_test), dtype=object)\n",
    "prediction = np.where(predict_prob[:, 0]>=0.5, 0, 1)  #labeling 0 or 1 depending on probabilities\n",
    "print(\"First five predictions:\")\n",
    "print(prediction[0:5], '\\n') # First 5 predictions after labeling\n",
    "\n",
    "# Confusion matrix\n",
    "print(\"Consufion matrix:\")\n",
    "print(pd.crosstab(prediction, Y_test),'\\n')\n",
    "# Accuracy\n",
    "\n",
    "print(f\"Accuracy: {np.mean(prediction == Y_test):.3f}\")\n",
    "print(f\"F1:{f1_score(Y_test,prediction):.3}\")\n",
    "print(classification_report(Y_test,prediction, digits = 3))\n"
   ]
  },
  {
   "cell_type": "code",
   "execution_count": 13,
   "metadata": {},
   "outputs": [
    {
     "name": "stdout",
     "output_type": "stream",
     "text": [
      "Consufion matrix:\n",
      "heard    0     1\n",
      "row_0           \n",
      "1.0    329  1099 \n",
      "\n",
      "Accuracy: 0.770\n",
      "F1:0.87\n"
     ]
    }
   ],
   "source": [
    "naive = np.ones(Y_test.shape[0])\n",
    "# Confusion matrix\n",
    "print(\"Consufion matrix:\")\n",
    "print(pd.crosstab(naive, Y_test),'\\n')\n",
    "# Accuracy\n",
    "print(f\"Accuracy: {np.mean(naive == Y_test):.3f}\")\n",
    "print(f\"F1:{f1_score(Y_test,naive):.2}\")\n",
    "\n"
   ]
  }
 ],
 "metadata": {
  "kernelspec": {
   "display_name": "base",
   "language": "python",
   "name": "python3"
  },
  "language_info": {
   "codemirror_mode": {
    "name": "ipython",
    "version": 3
   },
   "file_extension": ".py",
   "mimetype": "text/x-python",
   "name": "python",
   "nbconvert_exporter": "python",
   "pygments_lexer": "ipython3",
   "version": "3.9.13"
  }
 },
 "nbformat": 4,
 "nbformat_minor": 2
}
